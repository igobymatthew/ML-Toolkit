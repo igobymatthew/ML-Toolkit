{
 "cells": [
  {
   "cell_type": "markdown",
   "id": "979ff236",
   "metadata": {},
   "source": [
    "# 🧪 Demo: ML Model Comparison Toolkit\n",
    "\n",
    "This notebook demonstrates how to use the model evaluation and preprocessing modules manually for testing or experimentation."
   ]
  },
  {
   "cell_type": "code",
   "execution_count": null,
   "id": "12cdd001",
   "metadata": {},
   "outputs": [],
   "source": [
    "import pandas as pd\n",
    "from src.preprocess import preprocess_data\n",
    "from src.train_models import get_models\n",
    "from src.evaluate_models import evaluate_model"
   ]
  },
  {
   "cell_type": "code",
   "execution_count": null,
   "id": "2680c660",
   "metadata": {},
   "outputs": [],
   "source": [
    "# Load sample data\n",
    "df = pd.read_csv(\"../data/iris_sample.csv\")\n",
    "X, y = preprocess_data(df, target_column=\"species\")\n",
    "X.shape, len(y)"
   ]
  },
  {
   "cell_type": "code",
   "execution_count": null,
   "id": "997eb2af",
   "metadata": {},
   "outputs": [],
   "source": [
    "# Split data\n",
    "from sklearn.model_selection import train_test_split\n",
    "X_train, X_test, y_train, y_test = train_test_split(X, y, test_size=0.2, random_state=42)"
   ]
  },
  {
   "cell_type": "code",
   "execution_count": null,
   "id": "64224f3c",
   "metadata": {},
   "outputs": [],
   "source": [
    "# Train and evaluate models\n",
    "models = get_models()\n",
    "results = {}\n",
    "for name, model in models.items():\n",
    "    model.fit(X_train, y_train)\n",
    "    results[name] = evaluate_model(model, X_test, y_test)\n",
    "\n",
    "pd.DataFrame(results).T"
   ]
  }
 ],
 "metadata": {},
 "nbformat": 4,
 "nbformat_minor": 5
}
